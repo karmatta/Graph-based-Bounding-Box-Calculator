{
 "cells": [
  {
   "cell_type": "code",
   "execution_count": 2,
   "metadata": {},
   "outputs": [],
   "source": [
    "# Set of functions to calculate a bounding box around a colured grid\n",
    "# Approach:\n",
    "#      1. Given a colored grid, calculate the adjacency list\n",
    "#      2. find connected tiles from adjacency list using DFS\n",
    "#      3. Calculate the margins for each group\n",
    "# Author: Karthik D\n",
    "\n",
    "\n",
    "# Builds an adjacency list (set) graph representation from a 2d grid\n",
    "def build_adjacency_list(grid):\n",
    "    g = {};\n",
    "    i=0\n",
    "    for row in grid:\n",
    "        j=0\n",
    "        for cell in row:\n",
    "            v = (i,j)\n",
    "            if (v not in g and grid[i][j]==1):\n",
    "                g[v] = set()\n",
    "                for n in get_neighbours(grid, i, j):\n",
    "                    if (n not in g):\n",
    "                        g[n] = set()\n",
    "                    g[v].add(n)\n",
    "                    g[n].add(v)\n",
    "            j+=1\n",
    "        i+=1\n",
    "    return g\n",
    "\n",
    "# DFS on a adjacency list to determine connected groups\n",
    "def get_connected_components(graph, start=None):\n",
    "    componentId = 1\n",
    "    vertexComponent = {}\n",
    "    marked = set()\n",
    "\n",
    "    def dfs(source):\n",
    "        marked.add(source);\n",
    "        vertexComponent[source] = componentId\n",
    "        for u in graph[source]:\n",
    "            if (u not in marked):\n",
    "                dfs(u)\n",
    "                \n",
    "    if start is None:\n",
    "        for v in graph: \n",
    "            if (v not in marked): \n",
    "                dfs(v) # start dfs from an unmarked vertex\n",
    "                componentId+=1 # dfs must have \"touched\" every vertex in that component, so change componentId for the next dfs\n",
    "    else:\n",
    "        try:\n",
    "            dfs(start)\n",
    "        except:\n",
    "            print(\"Invalid start\")\n",
    "            return -1\n",
    "    \n",
    "    return vertexComponent\n",
    "\n",
    "\n",
    "# Iterate over neighbouring cells\n",
    "def get_neighbours(grid, i, j): \n",
    "    # returns neighboring cells of the same type as grid[i][j]\n",
    "    n = [];\n",
    "    color = grid[i][j];\n",
    "    if (i - 1 >= 0 and grid[i - 1][j] == color):\n",
    "        n.append((i - 1, j))\n",
    "    if (j - 1 >= 0 and grid[i][j - 1] == color):\n",
    "        n.append((i, j - 1))\n",
    "    if (i + 1 < len(grid) and grid[i + 1][j] == color):\n",
    "        n.append((i + 1, j))\n",
    "    if (j + 1 < len(grid[0]) and grid[i][j + 1] == color):\n",
    "        n.append((i, j + 1))\n",
    "    return n\n",
    "\n",
    "# Get a list of keys from dictionary which has the given value\n",
    "def get_keys_by_value(dictOfElements, valueToFind):\n",
    "    listOfKeys = list()\n",
    "    listOfItems = dictOfElements.items()\n",
    "    for item  in listOfItems:\n",
    "        if item[1] == valueToFind:\n",
    "            listOfKeys.append(item[0])\n",
    "    return  listOfKeys\n",
    "\n",
    "# Function to get the margins for each group\n",
    "def get_margins(array_groups):\n",
    "    margins = []\n",
    "    for group in set(array_groups.values()):\n",
    "        nodes = get_keys_by_value(array_groups, group)\n",
    "        xs = [n[0] for n in nodes]\n",
    "        ys = [n[1] for n in nodes]\n",
    "        group_start = (min(xs), min(ys))\n",
    "        group_end = (max(xs)+1, max(ys)+1)\n",
    "        #print([group_start, group_end])\n",
    "        margins.append([group_start, group_end])\n",
    "    return margins\n",
    "\n",
    "# Wrapper function to get margins\n",
    "def get_margins_from_grid(graph, start=None):\n",
    "    # DFS\n",
    "    array_groups = get_connected_components(graph, start)\n",
    "    # Get margins\n",
    "    margins = get_margins(array_groups)\n",
    "    return margins"
   ]
  },
  {
   "cell_type": "markdown",
   "metadata": {},
   "source": [
    "# Tests"
   ]
  },
  {
   "cell_type": "code",
   "execution_count": 3,
   "metadata": {},
   "outputs": [
    {
     "name": "stdout",
     "output_type": "stream",
     "text": [
      "[[(0, 1), (2, 3)]]\n",
      "---------------------------------------------------------------------------------------------------\n",
      "[[(0, 0), (3, 3)]]\n",
      "---------------------------------------------------------------------------------------------------\n",
      "[[(0, 0), (3, 3)]]\n",
      "---------------------------------------------------------------------------------------------------\n",
      "[[(1, 1), (4, 4)], [(3, 4), (4, 5)]]\n",
      "---------------------------------------------------------------------------------------------------\n",
      "[[(1, 1), (4, 3)], [(3, 4), (5, 5)]]\n"
     ]
    }
   ],
   "source": [
    "# Testing\n",
    "\n",
    "grid = [\n",
    "  [0, 1, 1],\n",
    "  [0, 1, 1],\n",
    "  [0, 0, 0]\n",
    "]\n",
    " # Build adj list\n",
    "graph = build_adjacency_list(grid)\n",
    "margins = get_margins_from_grid(graph)\n",
    "print(margins)\n",
    "print(\"---------------------------------------------------------------------------------------------------\")\n",
    "\n",
    "grid = [\n",
    "  [0, 1, 1],\n",
    "  [1, 1, 1],\n",
    "  [0, 1, 1]\n",
    "];\n",
    " # Build adj list\n",
    "graph = build_adjacency_list(grid)\n",
    "margins = get_margins_from_grid(graph)\n",
    "print(margins)\n",
    "print(\"---------------------------------------------------------------------------------------------------\")\n",
    "\n",
    "grid = [\n",
    "  [0, 1, 0],\n",
    "  [1, 1, 1],\n",
    "  [0, 1, 0]\n",
    "];\n",
    " # Build adj list\n",
    "graph = build_adjacency_list(grid)\n",
    "margins = get_margins_from_grid(graph)\n",
    "print(margins)\n",
    "print(\"---------------------------------------------------------------------------------------------------\")\n",
    "grid=[[0,0,0,0,0], \n",
    "      [0,0,1,0,0], \n",
    "      [0,1,1,1,0], \n",
    "      [0,1,1,0,1], \n",
    "      [0,0,0,0,0]]\n",
    " # Build adj list\n",
    "graph = build_adjacency_list(grid)\n",
    "margins = get_margins_from_grid(graph)\n",
    "print(margins)\n",
    "print(\"---------------------------------------------------------------------------------------------------\")\n",
    "grid=[[0,0,0,0,0], \n",
    "      [0,1,0,0,0], \n",
    "      [0,1,1,0,0], \n",
    "      [0,1,1,0,1], \n",
    "      [0,0,0,0,1]]\n",
    " # Build adj list\n",
    "graph = build_adjacency_list(grid)\n",
    "margins = get_margins_from_grid(graph)\n",
    "print(margins)"
   ]
  },
  {
   "cell_type": "markdown",
   "metadata": {},
   "source": [
    "# Time Complexity"
   ]
  },
  {
   "cell_type": "markdown",
   "metadata": {},
   "source": [
    "Algorithm:\n",
    "- First, we construct an adjacency list from the grid to capture the connected tiles.\n",
    "- The adjacency list is traversed to get the connected tiles using DFS\n",
    "\n",
    "Time Complexity:\n",
    "- Time complexity for constructing an adjacency list from a grid is **O(V^2)** where V is number of rows and columns\n",
    "- Time complexity of traversing a list using DFS is **O(V+E)** where E is the number of edges of the graph\n",
    "- Overall time complexity of the algorithm = **O(V^2) + O(V+E)** which is quadratic"
   ]
  },
  {
   "cell_type": "markdown",
   "metadata": {},
   "source": [
    "If the coordinates of one balck field is provided as an input to the algorithm, and you expect the matrix to be extremly sparse, can you think of a solution that will be more eficient than the previous one? What would time complexity in big O notation of that solution be?"
   ]
  },
  {
   "cell_type": "code",
   "execution_count": 4,
   "metadata": {},
   "outputs": [
    {
     "name": "stdout",
     "output_type": "stream",
     "text": [
      "[[(1, 1), (4, 3)]]\n"
     ]
    }
   ],
   "source": [
    "bounding_box = get_margins_from_grid(graph, start=(2,1))\n",
    "print(bounding_box)"
   ]
  },
  {
   "cell_type": "markdown",
   "metadata": {},
   "source": [
    "The time complexity to traverse a graph given a starting node is **O(E)**. So in the case where the black tile is provided, the complexity is **O(E)** where E is the number of connected tiles (len of the adj list). **Overall time complexity is still quadratic.**"
   ]
  },
  {
   "cell_type": "code",
   "execution_count": null,
   "metadata": {},
   "outputs": [],
   "source": []
  }
 ],
 "metadata": {
  "kernelspec": {
   "display_name": "Python 3",
   "language": "python",
   "name": "python3"
  },
  "language_info": {
   "codemirror_mode": {
    "name": "ipython",
    "version": 3
   },
   "file_extension": ".py",
   "mimetype": "text/x-python",
   "name": "python",
   "nbconvert_exporter": "python",
   "pygments_lexer": "ipython3",
   "version": "3.6.3"
  }
 },
 "nbformat": 4,
 "nbformat_minor": 2
}
